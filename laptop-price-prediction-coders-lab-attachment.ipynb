{
 "cells": [
  {
   "cell_type": "code",
   "execution_count": 1,
   "id": "4c4905d2",
   "metadata": {
    "_cell_guid": "b1076dfc-b9ad-4769-8c92-a6c4dae69d19",
    "_uuid": "8f2839f25d086af736a60e9eeb907d3b93b6e0e5",
    "execution": {
     "iopub.execute_input": "2024-12-31T07:33:31.299143Z",
     "iopub.status.busy": "2024-12-31T07:33:31.298786Z",
     "iopub.status.idle": "2024-12-31T07:33:32.017852Z",
     "shell.execute_reply": "2024-12-31T07:33:32.016601Z"
    },
    "papermill": {
     "duration": 0.732605,
     "end_time": "2024-12-31T07:33:32.019707",
     "exception": false,
     "start_time": "2024-12-31T07:33:31.287102",
     "status": "completed"
    },
    "tags": []
   },
   "outputs": [
    {
     "name": "stdout",
     "output_type": "stream",
     "text": [
      "/kaggle/input/laptop-price-dataset/laptop_price - dataset.csv\n"
     ]
    }
   ],
   "source": [
    "# This Python 3 environment comes with many helpful analytics libraries installed\n",
    "# It is defined by the kaggle/python Docker image: https://github.com/kaggle/docker-python\n",
    "# For example, here's several helpful packages to load\n",
    "\n",
    "import numpy as np # linear algebra\n",
    "import pandas as pd # data processing, CSV file I/O (e.g. pd.read_csv)\n",
    "\n",
    "# Input data files are available in the read-only \"../input/\" directory\n",
    "# For example, running this (by clicking run or pressing Shift+Enter) will list all files under the input directory\n",
    "\n",
    "import os\n",
    "for dirname, _, filenames in os.walk('/kaggle/input'):\n",
    "    for filename in filenames:\n",
    "        print(os.path.join(dirname, filename))\n",
    "\n",
    "# You can write up to 20GB to the current directory (/kaggle/working/) that gets preserved as output when you create a version using \"Save & Run All\" \n",
    "# You can also write temporary files to /kaggle/temp/, but they won't be saved outside of the current session"
   ]
  },
  {
   "cell_type": "code",
   "execution_count": 2,
   "id": "5abfb541",
   "metadata": {
    "execution": {
     "iopub.execute_input": "2024-12-31T07:33:32.041445Z",
     "iopub.status.busy": "2024-12-31T07:33:32.040912Z",
     "iopub.status.idle": "2024-12-31T07:33:32.066898Z",
     "shell.execute_reply": "2024-12-31T07:33:32.065865Z"
    },
    "papermill": {
     "duration": 0.039073,
     "end_time": "2024-12-31T07:33:32.068828",
     "exception": false,
     "start_time": "2024-12-31T07:33:32.029755",
     "status": "completed"
    },
    "tags": []
   },
   "outputs": [],
   "source": [
    "df = pd.read_csv('/kaggle/input/laptop-price-dataset/laptop_price - dataset.csv') "
   ]
  },
  {
   "cell_type": "code",
   "execution_count": 3,
   "id": "13466d4f",
   "metadata": {
    "execution": {
     "iopub.execute_input": "2024-12-31T07:33:32.089922Z",
     "iopub.status.busy": "2024-12-31T07:33:32.089536Z",
     "iopub.status.idle": "2024-12-31T07:33:32.115195Z",
     "shell.execute_reply": "2024-12-31T07:33:32.114129Z"
    },
    "papermill": {
     "duration": 0.038119,
     "end_time": "2024-12-31T07:33:32.116873",
     "exception": false,
     "start_time": "2024-12-31T07:33:32.078754",
     "status": "completed"
    },
    "tags": []
   },
   "outputs": [
    {
     "data": {
      "text/html": [
       "<div>\n",
       "<style scoped>\n",
       "    .dataframe tbody tr th:only-of-type {\n",
       "        vertical-align: middle;\n",
       "    }\n",
       "\n",
       "    .dataframe tbody tr th {\n",
       "        vertical-align: top;\n",
       "    }\n",
       "\n",
       "    .dataframe thead th {\n",
       "        text-align: right;\n",
       "    }\n",
       "</style>\n",
       "<table border=\"1\" class=\"dataframe\">\n",
       "  <thead>\n",
       "    <tr style=\"text-align: right;\">\n",
       "      <th></th>\n",
       "      <th>Company</th>\n",
       "      <th>Product</th>\n",
       "      <th>TypeName</th>\n",
       "      <th>Inches</th>\n",
       "      <th>ScreenResolution</th>\n",
       "      <th>CPU_Company</th>\n",
       "      <th>CPU_Type</th>\n",
       "      <th>CPU_Frequency (GHz)</th>\n",
       "      <th>RAM (GB)</th>\n",
       "      <th>Memory</th>\n",
       "      <th>GPU_Company</th>\n",
       "      <th>GPU_Type</th>\n",
       "      <th>OpSys</th>\n",
       "      <th>Weight (kg)</th>\n",
       "      <th>Price (Euro)</th>\n",
       "    </tr>\n",
       "  </thead>\n",
       "  <tbody>\n",
       "    <tr>\n",
       "      <th>0</th>\n",
       "      <td>Apple</td>\n",
       "      <td>MacBook Pro</td>\n",
       "      <td>Ultrabook</td>\n",
       "      <td>13.3</td>\n",
       "      <td>IPS Panel Retina Display 2560x1600</td>\n",
       "      <td>Intel</td>\n",
       "      <td>Core i5</td>\n",
       "      <td>2.3</td>\n",
       "      <td>8</td>\n",
       "      <td>128GB SSD</td>\n",
       "      <td>Intel</td>\n",
       "      <td>Iris Plus Graphics 640</td>\n",
       "      <td>macOS</td>\n",
       "      <td>1.37</td>\n",
       "      <td>1339.69</td>\n",
       "    </tr>\n",
       "    <tr>\n",
       "      <th>1</th>\n",
       "      <td>Apple</td>\n",
       "      <td>Macbook Air</td>\n",
       "      <td>Ultrabook</td>\n",
       "      <td>13.3</td>\n",
       "      <td>1440x900</td>\n",
       "      <td>Intel</td>\n",
       "      <td>Core i5</td>\n",
       "      <td>1.8</td>\n",
       "      <td>8</td>\n",
       "      <td>128GB Flash Storage</td>\n",
       "      <td>Intel</td>\n",
       "      <td>HD Graphics 6000</td>\n",
       "      <td>macOS</td>\n",
       "      <td>1.34</td>\n",
       "      <td>898.94</td>\n",
       "    </tr>\n",
       "    <tr>\n",
       "      <th>2</th>\n",
       "      <td>HP</td>\n",
       "      <td>250 G6</td>\n",
       "      <td>Notebook</td>\n",
       "      <td>15.6</td>\n",
       "      <td>Full HD 1920x1080</td>\n",
       "      <td>Intel</td>\n",
       "      <td>Core i5 7200U</td>\n",
       "      <td>2.5</td>\n",
       "      <td>8</td>\n",
       "      <td>256GB SSD</td>\n",
       "      <td>Intel</td>\n",
       "      <td>HD Graphics 620</td>\n",
       "      <td>No OS</td>\n",
       "      <td>1.86</td>\n",
       "      <td>575.00</td>\n",
       "    </tr>\n",
       "    <tr>\n",
       "      <th>3</th>\n",
       "      <td>Apple</td>\n",
       "      <td>MacBook Pro</td>\n",
       "      <td>Ultrabook</td>\n",
       "      <td>15.4</td>\n",
       "      <td>IPS Panel Retina Display 2880x1800</td>\n",
       "      <td>Intel</td>\n",
       "      <td>Core i7</td>\n",
       "      <td>2.7</td>\n",
       "      <td>16</td>\n",
       "      <td>512GB SSD</td>\n",
       "      <td>AMD</td>\n",
       "      <td>Radeon Pro 455</td>\n",
       "      <td>macOS</td>\n",
       "      <td>1.83</td>\n",
       "      <td>2537.45</td>\n",
       "    </tr>\n",
       "    <tr>\n",
       "      <th>4</th>\n",
       "      <td>Apple</td>\n",
       "      <td>MacBook Pro</td>\n",
       "      <td>Ultrabook</td>\n",
       "      <td>13.3</td>\n",
       "      <td>IPS Panel Retina Display 2560x1600</td>\n",
       "      <td>Intel</td>\n",
       "      <td>Core i5</td>\n",
       "      <td>3.1</td>\n",
       "      <td>8</td>\n",
       "      <td>256GB SSD</td>\n",
       "      <td>Intel</td>\n",
       "      <td>Iris Plus Graphics 650</td>\n",
       "      <td>macOS</td>\n",
       "      <td>1.37</td>\n",
       "      <td>1803.60</td>\n",
       "    </tr>\n",
       "  </tbody>\n",
       "</table>\n",
       "</div>"
      ],
      "text/plain": [
       "  Company      Product   TypeName  Inches                    ScreenResolution  \\\n",
       "0   Apple  MacBook Pro  Ultrabook    13.3  IPS Panel Retina Display 2560x1600   \n",
       "1   Apple  Macbook Air  Ultrabook    13.3                            1440x900   \n",
       "2      HP       250 G6   Notebook    15.6                   Full HD 1920x1080   \n",
       "3   Apple  MacBook Pro  Ultrabook    15.4  IPS Panel Retina Display 2880x1800   \n",
       "4   Apple  MacBook Pro  Ultrabook    13.3  IPS Panel Retina Display 2560x1600   \n",
       "\n",
       "  CPU_Company       CPU_Type  CPU_Frequency (GHz)  RAM (GB)  \\\n",
       "0       Intel        Core i5                  2.3         8   \n",
       "1       Intel        Core i5                  1.8         8   \n",
       "2       Intel  Core i5 7200U                  2.5         8   \n",
       "3       Intel        Core i7                  2.7        16   \n",
       "4       Intel        Core i5                  3.1         8   \n",
       "\n",
       "                Memory GPU_Company                GPU_Type  OpSys  \\\n",
       "0            128GB SSD       Intel  Iris Plus Graphics 640  macOS   \n",
       "1  128GB Flash Storage       Intel        HD Graphics 6000  macOS   \n",
       "2            256GB SSD       Intel         HD Graphics 620  No OS   \n",
       "3            512GB SSD         AMD          Radeon Pro 455  macOS   \n",
       "4            256GB SSD       Intel  Iris Plus Graphics 650  macOS   \n",
       "\n",
       "   Weight (kg)  Price (Euro)  \n",
       "0         1.37       1339.69  \n",
       "1         1.34        898.94  \n",
       "2         1.86        575.00  \n",
       "3         1.83       2537.45  \n",
       "4         1.37       1803.60  "
      ]
     },
     "execution_count": 3,
     "metadata": {},
     "output_type": "execute_result"
    }
   ],
   "source": [
    "df.head() "
   ]
  },
  {
   "cell_type": "markdown",
   "id": "fc17fd00",
   "metadata": {
    "papermill": {
     "duration": 0.009368,
     "end_time": "2024-12-31T07:33:32.135889",
     "exception": false,
     "start_time": "2024-12-31T07:33:32.126521",
     "status": "completed"
    },
    "tags": []
   },
   "source": [
    "#### information about the dataset"
   ]
  },
  {
   "cell_type": "code",
   "execution_count": 4,
   "id": "c5b4f387",
   "metadata": {
    "execution": {
     "iopub.execute_input": "2024-12-31T07:33:32.156609Z",
     "iopub.status.busy": "2024-12-31T07:33:32.156223Z",
     "iopub.status.idle": "2024-12-31T07:33:32.178482Z",
     "shell.execute_reply": "2024-12-31T07:33:32.177228Z"
    },
    "papermill": {
     "duration": 0.034297,
     "end_time": "2024-12-31T07:33:32.180178",
     "exception": false,
     "start_time": "2024-12-31T07:33:32.145881",
     "status": "completed"
    },
    "tags": []
   },
   "outputs": [
    {
     "name": "stdout",
     "output_type": "stream",
     "text": [
      "<class 'pandas.core.frame.DataFrame'>\n",
      "RangeIndex: 1275 entries, 0 to 1274\n",
      "Data columns (total 15 columns):\n",
      " #   Column               Non-Null Count  Dtype  \n",
      "---  ------               --------------  -----  \n",
      " 0   Company              1275 non-null   object \n",
      " 1   Product              1275 non-null   object \n",
      " 2   TypeName             1275 non-null   object \n",
      " 3   Inches               1275 non-null   float64\n",
      " 4   ScreenResolution     1275 non-null   object \n",
      " 5   CPU_Company          1275 non-null   object \n",
      " 6   CPU_Type             1275 non-null   object \n",
      " 7   CPU_Frequency (GHz)  1275 non-null   float64\n",
      " 8   RAM (GB)             1275 non-null   int64  \n",
      " 9   Memory               1275 non-null   object \n",
      " 10  GPU_Company          1275 non-null   object \n",
      " 11  GPU_Type             1275 non-null   object \n",
      " 12  OpSys                1275 non-null   object \n",
      " 13  Weight (kg)          1275 non-null   float64\n",
      " 14  Price (Euro)         1275 non-null   float64\n",
      "dtypes: float64(4), int64(1), object(10)\n",
      "memory usage: 149.5+ KB\n"
     ]
    }
   ],
   "source": [
    "df.info()"
   ]
  },
  {
   "cell_type": "markdown",
   "id": "a4d6cf3a",
   "metadata": {
    "papermill": {
     "duration": 0.009304,
     "end_time": "2024-12-31T07:33:32.199227",
     "exception": false,
     "start_time": "2024-12-31T07:33:32.189923",
     "status": "completed"
    },
    "tags": []
   },
   "source": [
    "#### checking null values"
   ]
  },
  {
   "cell_type": "code",
   "execution_count": 5,
   "id": "0b6ce523",
   "metadata": {
    "execution": {
     "iopub.execute_input": "2024-12-31T07:33:32.219597Z",
     "iopub.status.busy": "2024-12-31T07:33:32.219212Z",
     "iopub.status.idle": "2024-12-31T07:33:32.227357Z",
     "shell.execute_reply": "2024-12-31T07:33:32.226556Z"
    },
    "papermill": {
     "duration": 0.020016,
     "end_time": "2024-12-31T07:33:32.228836",
     "exception": false,
     "start_time": "2024-12-31T07:33:32.208820",
     "status": "completed"
    },
    "tags": []
   },
   "outputs": [
    {
     "data": {
      "text/plain": [
       "Company                0\n",
       "Product                0\n",
       "TypeName               0\n",
       "Inches                 0\n",
       "ScreenResolution       0\n",
       "CPU_Company            0\n",
       "CPU_Type               0\n",
       "CPU_Frequency (GHz)    0\n",
       "RAM (GB)               0\n",
       "Memory                 0\n",
       "GPU_Company            0\n",
       "GPU_Type               0\n",
       "OpSys                  0\n",
       "Weight (kg)            0\n",
       "Price (Euro)           0\n",
       "dtype: int64"
      ]
     },
     "execution_count": 5,
     "metadata": {},
     "output_type": "execute_result"
    }
   ],
   "source": [
    "df.isnull().sum()"
   ]
  },
  {
   "cell_type": "markdown",
   "id": "5ffbfd2e",
   "metadata": {
    "papermill": {
     "duration": 0.009473,
     "end_time": "2024-12-31T07:33:32.248243",
     "exception": false,
     "start_time": "2024-12-31T07:33:32.238770",
     "status": "completed"
    },
    "tags": []
   },
   "source": [
    "### checking duplicated values "
   ]
  },
  {
   "cell_type": "code",
   "execution_count": 6,
   "id": "6cb08022",
   "metadata": {
    "execution": {
     "iopub.execute_input": "2024-12-31T07:33:32.268707Z",
     "iopub.status.busy": "2024-12-31T07:33:32.268310Z",
     "iopub.status.idle": "2024-12-31T07:33:32.277960Z",
     "shell.execute_reply": "2024-12-31T07:33:32.276961Z"
    },
    "papermill": {
     "duration": 0.02182,
     "end_time": "2024-12-31T07:33:32.279640",
     "exception": false,
     "start_time": "2024-12-31T07:33:32.257820",
     "status": "completed"
    },
    "tags": []
   },
   "outputs": [
    {
     "data": {
      "text/plain": [
       "0"
      ]
     },
     "execution_count": 6,
     "metadata": {},
     "output_type": "execute_result"
    }
   ],
   "source": [
    "df.duplicated().sum() "
   ]
  },
  {
   "cell_type": "code",
   "execution_count": 7,
   "id": "f51ecb21",
   "metadata": {
    "execution": {
     "iopub.execute_input": "2024-12-31T07:33:32.300996Z",
     "iopub.status.busy": "2024-12-31T07:33:32.300646Z",
     "iopub.status.idle": "2024-12-31T07:33:32.306634Z",
     "shell.execute_reply": "2024-12-31T07:33:32.305573Z"
    },
    "papermill": {
     "duration": 0.018709,
     "end_time": "2024-12-31T07:33:32.308391",
     "exception": false,
     "start_time": "2024-12-31T07:33:32.289682",
     "status": "completed"
    },
    "tags": []
   },
   "outputs": [],
   "source": [
    "df['Touchscreen'] = df['ScreenResolution'].apply(lambda x:1 if 'Touchscreen' in x else 0) "
   ]
  },
  {
   "cell_type": "code",
   "execution_count": 8,
   "id": "0722a089",
   "metadata": {
    "execution": {
     "iopub.execute_input": "2024-12-31T07:33:32.329278Z",
     "iopub.status.busy": "2024-12-31T07:33:32.328950Z",
     "iopub.status.idle": "2024-12-31T07:33:33.759418Z",
     "shell.execute_reply": "2024-12-31T07:33:33.758629Z"
    },
    "papermill": {
     "duration": 1.443427,
     "end_time": "2024-12-31T07:33:33.761630",
     "exception": false,
     "start_time": "2024-12-31T07:33:32.318203",
     "status": "completed"
    },
    "tags": []
   },
   "outputs": [],
   "source": [
    "import seaborn as sns"
   ]
  },
  {
   "cell_type": "code",
   "execution_count": 9,
   "id": "53fe333b",
   "metadata": {
    "execution": {
     "iopub.execute_input": "2024-12-31T07:33:33.782664Z",
     "iopub.status.busy": "2024-12-31T07:33:33.782124Z",
     "iopub.status.idle": "2024-12-31T07:33:34.024461Z",
     "shell.execute_reply": "2024-12-31T07:33:34.023374Z"
    },
    "papermill": {
     "duration": 0.254703,
     "end_time": "2024-12-31T07:33:34.026183",
     "exception": false,
     "start_time": "2024-12-31T07:33:33.771480",
     "status": "completed"
    },
    "tags": []
   },
   "outputs": [
    {
     "data": {
      "text/plain": [
       "<Axes: xlabel='Touchscreen', ylabel='Price (Euro)'>"
      ]
     },
     "execution_count": 9,
     "metadata": {},
     "output_type": "execute_result"
    },
    {
     "data": {
      "image/png": "[encoded data removed]",
      "text/plain": [
       "<Figure size 640x480 with 1 Axes>"
      ]
     },
     "metadata": {},
     "output_type": "display_data"
    }
   ],
   "source": [
    "sns.barplot(x=df['Touchscreen'],y=df['Price (Euro)'])"
   ]
  },
  {
   "cell_type": "code",
   "execution_count": 10,
   "id": "a3db9d03",
   "metadata": {
    "execution": {
     "iopub.execute_input": "2024-12-31T07:33:34.048301Z",
     "iopub.status.busy": "2024-12-31T07:33:34.047966Z",
     "iopub.status.idle": "2024-12-31T07:33:34.053535Z",
     "shell.execute_reply": "2024-12-31T07:33:34.052625Z"
    },
    "papermill": {
     "duration": 0.01828,
     "end_time": "2024-12-31T07:33:34.055037",
     "exception": false,
     "start_time": "2024-12-31T07:33:34.036757",
     "status": "completed"
    },
    "tags": []
   },
   "outputs": [],
   "source": [
    "df['Ips'] = df['ScreenResolution'].apply(lambda x:1 if 'IPS' in x else 0) "
   ]
  },
  {
   "cell_type": "code",
   "execution_count": 11,
   "id": "f18c1639",
   "metadata": {
    "execution": {
     "iopub.execute_input": "2024-12-31T07:33:34.076839Z",
     "iopub.status.busy": "2024-12-31T07:33:34.076404Z",
     "iopub.status.idle": "2024-12-31T07:33:34.083382Z",
     "shell.execute_reply": "2024-12-31T07:33:34.082231Z"
    },
    "papermill": {
     "duration": 0.019748,
     "end_time": "2024-12-31T07:33:34.084967",
     "exception": false,
     "start_time": "2024-12-31T07:33:34.065219",
     "status": "completed"
    },
    "tags": []
   },
   "outputs": [],
   "source": [
    "new = df['ScreenResolution'].str.split('x',n=1,expand=True)"
   ]
  },
  {
   "cell_type": "code",
   "execution_count": 12,
   "id": "57771957",
   "metadata": {
    "execution": {
     "iopub.execute_input": "2024-12-31T07:33:34.106967Z",
     "iopub.status.busy": "2024-12-31T07:33:34.106616Z",
     "iopub.status.idle": "2024-12-31T07:33:34.111868Z",
     "shell.execute_reply": "2024-12-31T07:33:34.110869Z"
    },
    "papermill": {
     "duration": 0.01785,
     "end_time": "2024-12-31T07:33:34.113412",
     "exception": false,
     "start_time": "2024-12-31T07:33:34.095562",
     "status": "completed"
    },
    "tags": []
   },
   "outputs": [],
   "source": [
    "df['X_res'] = new[0]\n",
    "df['Y_res'] = new[1]"
   ]
  },
  {
   "cell_type": "code",
   "execution_count": 13,
   "id": "ee213305",
   "metadata": {
    "execution": {
     "iopub.execute_input": "2024-12-31T07:33:34.136048Z",
     "iopub.status.busy": "2024-12-31T07:33:34.135705Z",
     "iopub.status.idle": "2024-12-31T07:33:34.156174Z",
     "shell.execute_reply": "2024-12-31T07:33:34.155130Z"
    },
    "papermill": {
     "duration": 0.033445,
     "end_time": "2024-12-31T07:33:34.157861",
     "exception": false,
     "start_time": "2024-12-31T07:33:34.124416",
     "status": "completed"
    },
    "tags": []
   },
   "outputs": [
    {
     "data": {
      "text/html": [
       "<div>\n",
       "<style scoped>\n",
       "    .dataframe tbody tr th:only-of-type {\n",
       "        vertical-align: middle;\n",
       "    }\n",
       "\n",
       "    .dataframe tbody tr th {\n",
       "        vertical-align: top;\n",
       "    }\n",
       "\n",
       "    .dataframe thead th {\n",
       "        text-align: right;\n",
       "    }\n",
       "</style>\n",
       "<table border=\"1\" class=\"dataframe\">\n",
       "  <thead>\n",
       "    <tr style=\"text-align: right;\">\n",
       "      <th></th>\n",
       "      <th>Company</th>\n",
       "      <th>Product</th>\n",
       "      <th>TypeName</th>\n",
       "      <th>Inches</th>\n",
       "      <th>ScreenResolution</th>\n",
       "      <th>CPU_Company</th>\n",
       "      <th>CPU_Type</th>\n",
       "      <th>CPU_Frequency (GHz)</th>\n",
       "      <th>RAM (GB)</th>\n",
       "      <th>Memory</th>\n",
       "      <th>GPU_Company</th>\n",
       "      <th>GPU_Type</th>\n",
       "      <th>OpSys</th>\n",
       "      <th>Weight (kg)</th>\n",
       "      <th>Price (Euro)</th>\n",
       "      <th>Touchscreen</th>\n",
       "      <th>Ips</th>\n",
       "      <th>X_res</th>\n",
       "      <th>Y_res</th>\n",
       "    </tr>\n",
       "  </thead>\n",
       "  <tbody>\n",
       "    <tr>\n",
       "      <th>627</th>\n",
       "      <td>Lenovo</td>\n",
       "      <td>IdeaPad 320-15IKBN</td>\n",
       "      <td>Notebook</td>\n",
       "      <td>15.6</td>\n",
       "      <td>Full HD 1920x1080</td>\n",
       "      <td>Intel</td>\n",
       "      <td>Core i5 7200U</td>\n",
       "      <td>2.5</td>\n",
       "      <td>4</td>\n",
       "      <td>128GB SSD</td>\n",
       "      <td>Intel</td>\n",
       "      <td>HD Graphics 620</td>\n",
       "      <td>No OS</td>\n",
       "      <td>2.20</td>\n",
       "      <td>468.00</td>\n",
       "      <td>0</td>\n",
       "      <td>0</td>\n",
       "      <td>Full HD 1920</td>\n",
       "      <td>1080</td>\n",
       "    </tr>\n",
       "    <tr>\n",
       "      <th>375</th>\n",
       "      <td>HP</td>\n",
       "      <td>15-bw003nv (A9-Series-9420/4GB/256GB/FHD/W10)</td>\n",
       "      <td>Notebook</td>\n",
       "      <td>15.6</td>\n",
       "      <td>Full HD 1920x1080</td>\n",
       "      <td>AMD</td>\n",
       "      <td>A9-Series 9420</td>\n",
       "      <td>3.0</td>\n",
       "      <td>4</td>\n",
       "      <td>256GB SSD</td>\n",
       "      <td>AMD</td>\n",
       "      <td>Radeon R5</td>\n",
       "      <td>Windows 10</td>\n",
       "      <td>1.91</td>\n",
       "      <td>488.99</td>\n",
       "      <td>0</td>\n",
       "      <td>0</td>\n",
       "      <td>Full HD 1920</td>\n",
       "      <td>1080</td>\n",
       "    </tr>\n",
       "    <tr>\n",
       "      <th>596</th>\n",
       "      <td>Lenovo</td>\n",
       "      <td>ThinkPad Yoga</td>\n",
       "      <td>2 in 1 Convertible</td>\n",
       "      <td>13.3</td>\n",
       "      <td>IPS Panel Full HD / Touchscreen 1920x1080</td>\n",
       "      <td>Intel</td>\n",
       "      <td>Core i7 7500U</td>\n",
       "      <td>2.7</td>\n",
       "      <td>8</td>\n",
       "      <td>512GB SSD</td>\n",
       "      <td>Intel</td>\n",
       "      <td>HD Graphics 620</td>\n",
       "      <td>Windows 10</td>\n",
       "      <td>1.37</td>\n",
       "      <td>2025.00</td>\n",
       "      <td>1</td>\n",
       "      <td>1</td>\n",
       "      <td>IPS Panel Full HD / Touchscreen 1920</td>\n",
       "      <td>1080</td>\n",
       "    </tr>\n",
       "    <tr>\n",
       "      <th>724</th>\n",
       "      <td>MSI</td>\n",
       "      <td>GL72M 7REX</td>\n",
       "      <td>Gaming</td>\n",
       "      <td>17.3</td>\n",
       "      <td>Full HD 1920x1080</td>\n",
       "      <td>Intel</td>\n",
       "      <td>Core i7 7700HQ</td>\n",
       "      <td>2.8</td>\n",
       "      <td>8</td>\n",
       "      <td>128GB SSD +  1TB HDD</td>\n",
       "      <td>Nvidia</td>\n",
       "      <td>GeForce GTX 1050 Ti</td>\n",
       "      <td>Windows 10</td>\n",
       "      <td>2.70</td>\n",
       "      <td>1348.48</td>\n",
       "      <td>0</td>\n",
       "      <td>0</td>\n",
       "      <td>Full HD 1920</td>\n",
       "      <td>1080</td>\n",
       "    </tr>\n",
       "    <tr>\n",
       "      <th>312</th>\n",
       "      <td>MSI</td>\n",
       "      <td>GE63VR 7RF</td>\n",
       "      <td>Gaming</td>\n",
       "      <td>15.6</td>\n",
       "      <td>IPS Panel Full HD 1920x1080</td>\n",
       "      <td>Intel</td>\n",
       "      <td>Core i7 7700HQ</td>\n",
       "      <td>2.8</td>\n",
       "      <td>16</td>\n",
       "      <td>256GB SSD +  1TB HDD</td>\n",
       "      <td>Nvidia</td>\n",
       "      <td>GeForce GTX 1070</td>\n",
       "      <td>Windows 10</td>\n",
       "      <td>2.80</td>\n",
       "      <td>2099.00</td>\n",
       "      <td>0</td>\n",
       "      <td>1</td>\n",
       "      <td>IPS Panel Full HD 1920</td>\n",
       "      <td>1080</td>\n",
       "    </tr>\n",
       "  </tbody>\n",
       "</table>\n",
       "</div>"
      ],
      "text/plain": [
       "    Company                                        Product  \\\n",
       "627  Lenovo                             IdeaPad 320-15IKBN   \n",
       "375      HP  15-bw003nv (A9-Series-9420/4GB/256GB/FHD/W10)   \n",
       "596  Lenovo                                  ThinkPad Yoga   \n",
       "724     MSI                                     GL72M 7REX   \n",
       "312     MSI                                     GE63VR 7RF   \n",
       "\n",
       "               TypeName  Inches                           ScreenResolution  \\\n",
       "627            Notebook    15.6                          Full HD 1920x1080   \n",
       "375            Notebook    15.6                          Full HD 1920x1080   \n",
       "596  2 in 1 Convertible    13.3  IPS Panel Full HD / Touchscreen 1920x1080   \n",
       "724              Gaming    17.3                          Full HD 1920x1080   \n",
       "312              Gaming    15.6                IPS Panel Full HD 1920x1080   \n",
       "\n",
       "    CPU_Company        CPU_Type  CPU_Frequency (GHz)  RAM (GB)  \\\n",
       "627       Intel   Core i5 7200U                  2.5         4   \n",
       "375         AMD  A9-Series 9420                  3.0         4   \n",
       "596       Intel   Core i7 7500U                  2.7         8   \n",
       "724       Intel  Core i7 7700HQ                  2.8         8   \n",
       "312       Intel  Core i7 7700HQ                  2.8        16   \n",
       "\n",
       "                   Memory GPU_Company             GPU_Type       OpSys  \\\n",
       "627             128GB SSD       Intel      HD Graphics 620       No OS   \n",
       "375             256GB SSD         AMD            Radeon R5  Windows 10   \n",
       "596             512GB SSD       Intel      HD Graphics 620  Windows 10   \n",
       "724  128GB SSD +  1TB HDD      Nvidia  GeForce GTX 1050 Ti  Windows 10   \n",
       "312  256GB SSD +  1TB HDD      Nvidia     GeForce GTX 1070  Windows 10   \n",
       "\n",
       "     Weight (kg)  Price (Euro)  Touchscreen  Ips  \\\n",
       "627         2.20        468.00            0    0   \n",
       "375         1.91        488.99            0    0   \n",
       "596         1.37       2025.00            1    1   \n",
       "724         2.70       1348.48            0    0   \n",
       "312         2.80       2099.00            0    1   \n",
       "\n",
       "                                    X_res Y_res  \n",
       "627                          Full HD 1920  1080  \n",
       "375                          Full HD 1920  1080  \n",
       "596  IPS Panel Full HD / Touchscreen 1920  1080  \n",
       "724                          Full HD 1920  1080  \n",
       "312                IPS Panel Full HD 1920  1080  "
      ]
     },
     "execution_count": 13,
     "metadata": {},
     "output_type": "execute_result"
    }
   ],
   "source": [
    "df.sample(5)"
   ]
  },
  {
   "cell_type": "code",
   "execution_count": 14,
   "id": "8c66cd49",
   "metadata": {
    "execution": {
     "iopub.execute_input": "2024-12-31T07:33:34.180414Z",
     "iopub.status.busy": "2024-12-31T07:33:34.180080Z",
     "iopub.status.idle": "2024-12-31T07:33:34.187943Z",
     "shell.execute_reply": "2024-12-31T07:33:34.186961Z"
    },
    "papermill": {
     "duration": 0.020934,
     "end_time": "2024-12-31T07:33:34.189595",
     "exception": false,
     "start_time": "2024-12-31T07:33:34.168661",
     "status": "completed"
    },
    "tags": []
   },
   "outputs": [],
   "source": [
    "df['X_res'] = df['X_res'].str.replace(',','').str.findall(r'(\\d+\\.?\\d+)').apply(lambda x:x[0])"
   ]
  },
  {
   "cell_type": "code",
   "execution_count": 15,
   "id": "202a3b34",
   "metadata": {
    "execution": {
     "iopub.execute_input": "2024-12-31T07:33:34.211957Z",
     "iopub.status.busy": "2024-12-31T07:33:34.211614Z",
     "iopub.status.idle": "2024-12-31T07:33:34.216840Z",
     "shell.execute_reply": "2024-12-31T07:33:34.215948Z"
    },
    "papermill": {
     "duration": 0.018038,
     "end_time": "2024-12-31T07:33:34.218343",
     "exception": false,
     "start_time": "2024-12-31T07:33:34.200305",
     "status": "completed"
    },
    "tags": []
   },
   "outputs": [],
   "source": [
    "df['X_res'] = df['X_res'].astype('int')\n",
    "df['Y_res'] = df['Y_res'].astype('int')"
   ]
  },
  {
   "cell_type": "code",
   "execution_count": 16,
   "id": "e5e7b2c9",
   "metadata": {
    "execution": {
     "iopub.execute_input": "2024-12-31T07:33:34.240800Z",
     "iopub.status.busy": "2024-12-31T07:33:34.240386Z",
     "iopub.status.idle": "2024-12-31T07:33:34.252950Z",
     "shell.execute_reply": "2024-12-31T07:33:34.251691Z"
    },
    "papermill": {
     "duration": 0.025644,
     "end_time": "2024-12-31T07:33:34.254589",
     "exception": false,
     "start_time": "2024-12-31T07:33:34.228945",
     "status": "completed"
    },
    "tags": []
   },
   "outputs": [
    {
     "name": "stdout",
     "output_type": "stream",
     "text": [
      "<class 'pandas.core.frame.DataFrame'>\n",
      "RangeIndex: 1275 entries, 0 to 1274\n",
      "Data columns (total 19 columns):\n",
      " #   Column               Non-Null Count  Dtype  \n",
      "---  ------               --------------  -----  \n",
      " 0   Company              1275 non-null   object \n",
      " 1   Product              1275 non-null   object \n",
      " 2   TypeName             1275 non-null   object \n",
      " 3   Inches               1275 non-null   float64\n",
      " 4   ScreenResolution     1275 non-null   object \n",
      " 5   CPU_Company          1275 non-null   object \n",
      " 6   CPU_Type             1275 non-null   object \n",
      " 7   CPU_Frequency (GHz)  1275 non-null   float64\n",
      " 8   RAM (GB)             1275 non-null   int64  \n",
      " 9   Memory               1275 non-null   object \n",
      " 10  GPU_Company          1275 non-null   object \n",
      " 11  GPU_Type             1275 non-null   object \n",
      " 12  OpSys                1275 non-null   object \n",
      " 13  Weight (kg)          1275 non-null   float64\n",
      " 14  Price (Euro)         1275 non-null   float64\n",
      " 15  Touchscreen          1275 non-null   int64  \n",
      " 16  Ips                  1275 non-null   int64  \n",
      " 17  X_res                1275 non-null   int64  \n",
      " 18  Y_res                1275 non-null   int64  \n",
      "dtypes: float64(4), int64(5), object(10)\n",
      "memory usage: 189.4+ KB\n"
     ]
    }
   ],
   "source": [
    "df.info()"
   ]
  },
  {
   "cell_type": "code",
   "execution_count": 17,
   "id": "f6ac80d1",
   "metadata": {
    "execution": {
     "iopub.execute_input": "2024-12-31T07:33:34.277657Z",
     "iopub.status.busy": "2024-12-31T07:33:34.277247Z",
     "iopub.status.idle": "2024-12-31T07:33:34.423516Z",
     "shell.execute_reply": "2024-12-31T07:33:34.422355Z"
    },
    "papermill": {
     "duration": 0.159769,
     "end_time": "2024-12-31T07:33:34.425302",
     "exception": false,
     "start_time": "2024-12-31T07:33:34.265533",
     "status": "completed"
    },
    "tags": []
   },
   "outputs": [],
   "source": [
    "from sklearn.preprocessing import LabelEncoder, MinMaxScaler "
   ]
  },
  {
   "cell_type": "code",
   "execution_count": 18,
   "id": "cd76519b",
   "metadata": {
    "execution": {
     "iopub.execute_input": "2024-12-31T07:33:34.448271Z",
     "iopub.status.busy": "2024-12-31T07:33:34.447935Z",
     "iopub.status.idle": "2024-12-31T07:33:34.456628Z",
     "shell.execute_reply": "2024-12-31T07:33:34.455681Z"
    },
    "papermill": {
     "duration": 0.021876,
     "end_time": "2024-12-31T07:33:34.458217",
     "exception": false,
     "start_time": "2024-12-31T07:33:34.436341",
     "status": "completed"
    },
    "tags": []
   },
   "outputs": [],
   "source": [
    "encoder = LabelEncoder()\n",
    "df['Memory'] = encoder.fit_transform(df['Memory']) \n",
    "df['Product'] = encoder.fit_transform(df['Product']) "
   ]
  },
  {
   "cell_type": "code",
   "execution_count": 19,
   "id": "d3c4bae0",
   "metadata": {
    "execution": {
     "iopub.execute_input": "2024-12-31T07:33:34.480839Z",
     "iopub.status.busy": "2024-12-31T07:33:34.480446Z",
     "iopub.status.idle": "2024-12-31T07:33:34.486734Z",
     "shell.execute_reply": "2024-12-31T07:33:34.485896Z"
    },
    "papermill": {
     "duration": 0.019224,
     "end_time": "2024-12-31T07:33:34.488193",
     "exception": false,
     "start_time": "2024-12-31T07:33:34.468969",
     "status": "completed"
    },
    "tags": []
   },
   "outputs": [],
   "source": [
    "df['ppi'] = (((df['X_res']**2) + (df['Y_res']**2))**0.5/df['Inches']).astype('float')"
   ]
  },
  {
   "cell_type": "code",
   "execution_count": 20,
   "id": "bcd06e30",
   "metadata": {
    "execution": {
     "iopub.execute_input": "2024-12-31T07:33:34.510709Z",
     "iopub.status.busy": "2024-12-31T07:33:34.510347Z",
     "iopub.status.idle": "2024-12-31T07:33:34.517528Z",
     "shell.execute_reply": "2024-12-31T07:33:34.516653Z"
    },
    "papermill": {
     "duration": 0.020115,
     "end_time": "2024-12-31T07:33:34.519122",
     "exception": false,
     "start_time": "2024-12-31T07:33:34.499007",
     "status": "completed"
    },
    "tags": []
   },
   "outputs": [
    {
     "data": {
      "text/plain": [
       "GPU_Company\n",
       "Intel     704\n",
       "Nvidia    396\n",
       "AMD       174\n",
       "ARM         1\n",
       "Name: count, dtype: int64"
      ]
     },
     "execution_count": 20,
     "metadata": {},
     "output_type": "execute_result"
    }
   ],
   "source": [
    "df['GPU_Company'].value_counts()"
   ]
  },
  {
   "cell_type": "code",
   "execution_count": 21,
   "id": "faf20f08",
   "metadata": {
    "execution": {
     "iopub.execute_input": "2024-12-31T07:33:34.541737Z",
     "iopub.status.busy": "2024-12-31T07:33:34.541338Z",
     "iopub.status.idle": "2024-12-31T07:33:34.546437Z",
     "shell.execute_reply": "2024-12-31T07:33:34.545551Z"
    },
    "papermill": {
     "duration": 0.01804,
     "end_time": "2024-12-31T07:33:34.548036",
     "exception": false,
     "start_time": "2024-12-31T07:33:34.529996",
     "status": "completed"
    },
    "tags": []
   },
   "outputs": [],
   "source": [
    "df.drop(columns = 'GPU_Type', inplace=True)"
   ]
  },
  {
   "cell_type": "code",
   "execution_count": 22,
   "id": "6ef4e2ba",
   "metadata": {
    "execution": {
     "iopub.execute_input": "2024-12-31T07:33:34.570581Z",
     "iopub.status.busy": "2024-12-31T07:33:34.570178Z",
     "iopub.status.idle": "2024-12-31T07:33:34.576094Z",
     "shell.execute_reply": "2024-12-31T07:33:34.575306Z"
    },
    "papermill": {
     "duration": 0.018461,
     "end_time": "2024-12-31T07:33:34.577450",
     "exception": false,
     "start_time": "2024-12-31T07:33:34.558989",
     "status": "completed"
    },
    "tags": []
   },
   "outputs": [],
   "source": [
    "df = df[df['GPU_Company'] != 'ARM']"
   ]
  },
  {
   "cell_type": "code",
   "execution_count": 23,
   "id": "fc05a883",
   "metadata": {
    "execution": {
     "iopub.execute_input": "2024-12-31T07:33:34.599750Z",
     "iopub.status.busy": "2024-12-31T07:33:34.599363Z",
     "iopub.status.idle": "2024-12-31T07:33:34.606484Z",
     "shell.execute_reply": "2024-12-31T07:33:34.605452Z"
    },
    "papermill": {
     "duration": 0.020124,
     "end_time": "2024-12-31T07:33:34.608176",
     "exception": false,
     "start_time": "2024-12-31T07:33:34.588052",
     "status": "completed"
    },
    "tags": []
   },
   "outputs": [
    {
     "data": {
      "text/plain": [
       "0            macOS\n",
       "1            macOS\n",
       "2            No OS\n",
       "3            macOS\n",
       "4            macOS\n",
       "           ...    \n",
       "1270    Windows 10\n",
       "1271    Windows 10\n",
       "1272    Windows 10\n",
       "1273    Windows 10\n",
       "1274    Windows 10\n",
       "Name: OpSys, Length: 1274, dtype: object"
      ]
     },
     "execution_count": 23,
     "metadata": {},
     "output_type": "execute_result"
    }
   ],
   "source": [
    "df['OpSys']"
   ]
  },
  {
   "cell_type": "code",
   "execution_count": 24,
   "id": "79c61a84",
   "metadata": {
    "execution": {
     "iopub.execute_input": "2024-12-31T07:33:34.630750Z",
     "iopub.status.busy": "2024-12-31T07:33:34.630362Z",
     "iopub.status.idle": "2024-12-31T07:33:34.635031Z",
     "shell.execute_reply": "2024-12-31T07:33:34.634024Z"
    },
    "papermill": {
     "duration": 0.017609,
     "end_time": "2024-12-31T07:33:34.636558",
     "exception": false,
     "start_time": "2024-12-31T07:33:34.618949",
     "status": "completed"
    },
    "tags": []
   },
   "outputs": [],
   "source": [
    "def cat_os(inp):\n",
    "    if inp == 'Windows 10' or inp == 'Windows 7' or inp == 'Windows 10 S':\n",
    "        return 'Windows'\n",
    "    elif inp == 'macOS' or inp == 'Mac OS X':\n",
    "        return 'Mac'\n",
    "    else:\n",
    "        return 'Others/No OS/Linux'"
   ]
  },
  {
   "cell_type": "code",
   "execution_count": 25,
   "id": "42d03ed1",
   "metadata": {
    "execution": {
     "iopub.execute_input": "2024-12-31T07:33:34.658977Z",
     "iopub.status.busy": "2024-12-31T07:33:34.658620Z",
     "iopub.status.idle": "2024-12-31T07:33:34.664023Z",
     "shell.execute_reply": "2024-12-31T07:33:34.663041Z"
    },
    "papermill": {
     "duration": 0.018312,
     "end_time": "2024-12-31T07:33:34.665465",
     "exception": false,
     "start_time": "2024-12-31T07:33:34.647153",
     "status": "completed"
    },
    "tags": []
   },
   "outputs": [],
   "source": [
    "df['os'] = df['OpSys'].apply(cat_os)"
   ]
  },
  {
   "cell_type": "code",
   "execution_count": 26,
   "id": "f8b9a1d5",
   "metadata": {
    "execution": {
     "iopub.execute_input": "2024-12-31T07:33:34.688044Z",
     "iopub.status.busy": "2024-12-31T07:33:34.687709Z",
     "iopub.status.idle": "2024-12-31T07:33:34.692971Z",
     "shell.execute_reply": "2024-12-31T07:33:34.692042Z"
    },
    "papermill": {
     "duration": 0.018546,
     "end_time": "2024-12-31T07:33:34.694518",
     "exception": false,
     "start_time": "2024-12-31T07:33:34.675972",
     "status": "completed"
    },
    "tags": []
   },
   "outputs": [],
   "source": [
    "df.drop(columns=['OpSys'],inplace=True)"
   ]
  },
  {
   "cell_type": "code",
   "execution_count": 27,
   "id": "175d4df4",
   "metadata": {
    "execution": {
     "iopub.execute_input": "2024-12-31T07:33:34.717162Z",
     "iopub.status.busy": "2024-12-31T07:33:34.716847Z",
     "iopub.status.idle": "2024-12-31T07:33:34.722035Z",
     "shell.execute_reply": "2024-12-31T07:33:34.721090Z"
    },
    "papermill": {
     "duration": 0.018417,
     "end_time": "2024-12-31T07:33:34.723736",
     "exception": false,
     "start_time": "2024-12-31T07:33:34.705319",
     "status": "completed"
    },
    "tags": []
   },
   "outputs": [],
   "source": [
    "df.drop(columns = 'CPU_Type', inplace=True) "
   ]
  },
  {
   "cell_type": "code",
   "execution_count": 28,
   "id": "eb76a790",
   "metadata": {
    "execution": {
     "iopub.execute_input": "2024-12-31T07:33:34.747116Z",
     "iopub.status.busy": "2024-12-31T07:33:34.746740Z",
     "iopub.status.idle": "2024-12-31T07:33:34.752538Z",
     "shell.execute_reply": "2024-12-31T07:33:34.751543Z"
    },
    "papermill": {
     "duration": 0.019494,
     "end_time": "2024-12-31T07:33:34.754111",
     "exception": false,
     "start_time": "2024-12-31T07:33:34.734617",
     "status": "completed"
    },
    "tags": []
   },
   "outputs": [],
   "source": [
    "df.drop(columns = 'ScreenResolution', inplace = True) "
   ]
  },
  {
   "cell_type": "code",
   "execution_count": 29,
   "id": "5274d61b",
   "metadata": {
    "execution": {
     "iopub.execute_input": "2024-12-31T07:33:34.776922Z",
     "iopub.status.busy": "2024-12-31T07:33:34.776468Z",
     "iopub.status.idle": "2024-12-31T07:33:34.782408Z",
     "shell.execute_reply": "2024-12-31T07:33:34.781374Z"
    },
    "papermill": {
     "duration": 0.019124,
     "end_time": "2024-12-31T07:33:34.783989",
     "exception": false,
     "start_time": "2024-12-31T07:33:34.764865",
     "status": "completed"
    },
    "tags": []
   },
   "outputs": [],
   "source": [
    "df.drop(columns = ['X_res', 'Y_res', 'Inches'], inplace= True) "
   ]
  },
  {
   "cell_type": "code",
   "execution_count": 30,
   "id": "3f3cd578",
   "metadata": {
    "execution": {
     "iopub.execute_input": "2024-12-31T07:33:34.806756Z",
     "iopub.status.busy": "2024-12-31T07:33:34.806341Z",
     "iopub.status.idle": "2024-12-31T07:33:34.812543Z",
     "shell.execute_reply": "2024-12-31T07:33:34.811516Z"
    },
    "papermill": {
     "duration": 0.019215,
     "end_time": "2024-12-31T07:33:34.814094",
     "exception": false,
     "start_time": "2024-12-31T07:33:34.794879",
     "status": "completed"
    },
    "tags": []
   },
   "outputs": [],
   "source": [
    "X = df.drop(columns=['Price (Euro)'])\n",
    "y = np.log(df['Price (Euro)'])"
   ]
  },
  {
   "cell_type": "code",
   "execution_count": 31,
   "id": "3e1dccb7",
   "metadata": {
    "execution": {
     "iopub.execute_input": "2024-12-31T07:33:34.836691Z",
     "iopub.status.busy": "2024-12-31T07:33:34.836273Z",
     "iopub.status.idle": "2024-12-31T07:33:34.855850Z",
     "shell.execute_reply": "2024-12-31T07:33:34.854786Z"
    },
    "papermill": {
     "duration": 0.03277,
     "end_time": "2024-12-31T07:33:34.857607",
     "exception": false,
     "start_time": "2024-12-31T07:33:34.824837",
     "status": "completed"
    },
    "tags": []
   },
   "outputs": [
    {
     "data": {
      "text/html": [
       "<div>\n",
       "<style scoped>\n",
       "    .dataframe tbody tr th:only-of-type {\n",
       "        vertical-align: middle;\n",
       "    }\n",
       "\n",
       "    .dataframe tbody tr th {\n",
       "        vertical-align: top;\n",
       "    }\n",
       "\n",
       "    .dataframe thead th {\n",
       "        text-align: right;\n",
       "    }\n",
       "</style>\n",
       "<table border=\"1\" class=\"dataframe\">\n",
       "  <thead>\n",
       "    <tr style=\"text-align: right;\">\n",
       "      <th></th>\n",
       "      <th>Company</th>\n",
       "      <th>Product</th>\n",
       "      <th>TypeName</th>\n",
       "      <th>CPU_Company</th>\n",
       "      <th>CPU_Frequency (GHz)</th>\n",
       "      <th>RAM (GB)</th>\n",
       "      <th>Memory</th>\n",
       "      <th>GPU_Company</th>\n",
       "      <th>Weight (kg)</th>\n",
       "      <th>Touchscreen</th>\n",
       "      <th>Ips</th>\n",
       "      <th>ppi</th>\n",
       "      <th>os</th>\n",
       "    </tr>\n",
       "  </thead>\n",
       "  <tbody>\n",
       "    <tr>\n",
       "      <th>0</th>\n",
       "      <td>Apple</td>\n",
       "      <td>300</td>\n",
       "      <td>Ultrabook</td>\n",
       "      <td>Intel</td>\n",
       "      <td>2.3</td>\n",
       "      <td>8</td>\n",
       "      <td>4</td>\n",
       "      <td>Intel</td>\n",
       "      <td>1.37</td>\n",
       "      <td>0</td>\n",
       "      <td>1</td>\n",
       "      <td>226.983005</td>\n",
       "      <td>Mac</td>\n",
       "    </tr>\n",
       "    <tr>\n",
       "      <th>1</th>\n",
       "      <td>Apple</td>\n",
       "      <td>301</td>\n",
       "      <td>Ultrabook</td>\n",
       "      <td>Intel</td>\n",
       "      <td>1.8</td>\n",
       "      <td>8</td>\n",
       "      <td>2</td>\n",
       "      <td>Intel</td>\n",
       "      <td>1.34</td>\n",
       "      <td>0</td>\n",
       "      <td>0</td>\n",
       "      <td>127.677940</td>\n",
       "      <td>Mac</td>\n",
       "    </tr>\n",
       "    <tr>\n",
       "      <th>2</th>\n",
       "      <td>HP</td>\n",
       "      <td>50</td>\n",
       "      <td>Notebook</td>\n",
       "      <td>Intel</td>\n",
       "      <td>2.5</td>\n",
       "      <td>8</td>\n",
       "      <td>16</td>\n",
       "      <td>Intel</td>\n",
       "      <td>1.86</td>\n",
       "      <td>0</td>\n",
       "      <td>0</td>\n",
       "      <td>141.211998</td>\n",
       "      <td>Others/No OS/Linux</td>\n",
       "    </tr>\n",
       "    <tr>\n",
       "      <th>3</th>\n",
       "      <td>Apple</td>\n",
       "      <td>300</td>\n",
       "      <td>Ultrabook</td>\n",
       "      <td>Intel</td>\n",
       "      <td>2.7</td>\n",
       "      <td>16</td>\n",
       "      <td>29</td>\n",
       "      <td>AMD</td>\n",
       "      <td>1.83</td>\n",
       "      <td>0</td>\n",
       "      <td>1</td>\n",
       "      <td>220.534624</td>\n",
       "      <td>Mac</td>\n",
       "    </tr>\n",
       "    <tr>\n",
       "      <th>4</th>\n",
       "      <td>Apple</td>\n",
       "      <td>300</td>\n",
       "      <td>Ultrabook</td>\n",
       "      <td>Intel</td>\n",
       "      <td>3.1</td>\n",
       "      <td>8</td>\n",
       "      <td>16</td>\n",
       "      <td>Intel</td>\n",
       "      <td>1.37</td>\n",
       "      <td>0</td>\n",
       "      <td>1</td>\n",
       "      <td>226.983005</td>\n",
       "      <td>Mac</td>\n",
       "    </tr>\n",
       "    <tr>\n",
       "      <th>...</th>\n",
       "      <td>...</td>\n",
       "      <td>...</td>\n",
       "      <td>...</td>\n",
       "      <td>...</td>\n",
       "      <td>...</td>\n",
       "      <td>...</td>\n",
       "      <td>...</td>\n",
       "      <td>...</td>\n",
       "      <td>...</td>\n",
       "      <td>...</td>\n",
       "      <td>...</td>\n",
       "      <td>...</td>\n",
       "      <td>...</td>\n",
       "    </tr>\n",
       "    <tr>\n",
       "      <th>1270</th>\n",
       "      <td>Lenovo</td>\n",
       "      <td>580</td>\n",
       "      <td>2 in 1 Convertible</td>\n",
       "      <td>Intel</td>\n",
       "      <td>2.5</td>\n",
       "      <td>4</td>\n",
       "      <td>4</td>\n",
       "      <td>Intel</td>\n",
       "      <td>1.80</td>\n",
       "      <td>1</td>\n",
       "      <td>1</td>\n",
       "      <td>157.350512</td>\n",
       "      <td>Windows</td>\n",
       "    </tr>\n",
       "    <tr>\n",
       "      <th>1271</th>\n",
       "      <td>Lenovo</td>\n",
       "      <td>588</td>\n",
       "      <td>2 in 1 Convertible</td>\n",
       "      <td>Intel</td>\n",
       "      <td>2.5</td>\n",
       "      <td>16</td>\n",
       "      <td>29</td>\n",
       "      <td>Intel</td>\n",
       "      <td>1.30</td>\n",
       "      <td>1</td>\n",
       "      <td>1</td>\n",
       "      <td>276.053530</td>\n",
       "      <td>Windows</td>\n",
       "    </tr>\n",
       "    <tr>\n",
       "      <th>1272</th>\n",
       "      <td>Lenovo</td>\n",
       "      <td>196</td>\n",
       "      <td>Notebook</td>\n",
       "      <td>Intel</td>\n",
       "      <td>1.6</td>\n",
       "      <td>2</td>\n",
       "      <td>35</td>\n",
       "      <td>Intel</td>\n",
       "      <td>1.50</td>\n",
       "      <td>0</td>\n",
       "      <td>0</td>\n",
       "      <td>111.935204</td>\n",
       "      <td>Windows</td>\n",
       "    </tr>\n",
       "    <tr>\n",
       "      <th>1273</th>\n",
       "      <td>HP</td>\n",
       "      <td>2</td>\n",
       "      <td>Notebook</td>\n",
       "      <td>Intel</td>\n",
       "      <td>2.5</td>\n",
       "      <td>6</td>\n",
       "      <td>10</td>\n",
       "      <td>AMD</td>\n",
       "      <td>2.19</td>\n",
       "      <td>0</td>\n",
       "      <td>0</td>\n",
       "      <td>100.454670</td>\n",
       "      <td>Windows</td>\n",
       "    </tr>\n",
       "    <tr>\n",
       "      <th>1274</th>\n",
       "      <td>Asus</td>\n",
       "      <td>568</td>\n",
       "      <td>Notebook</td>\n",
       "      <td>Intel</td>\n",
       "      <td>1.6</td>\n",
       "      <td>4</td>\n",
       "      <td>26</td>\n",
       "      <td>Intel</td>\n",
       "      <td>2.20</td>\n",
       "      <td>0</td>\n",
       "      <td>0</td>\n",
       "      <td>100.454670</td>\n",
       "      <td>Windows</td>\n",
       "    </tr>\n",
       "  </tbody>\n",
       "</table>\n",
       "<p>1274 rows × 13 columns</p>\n",
       "</div>"
      ],
      "text/plain": [
       "     Company  Product            TypeName CPU_Company  CPU_Frequency (GHz)  \\\n",
       "0      Apple      300           Ultrabook       Intel                  2.3   \n",
       "1      Apple      301           Ultrabook       Intel                  1.8   \n",
       "2         HP       50            Notebook       Intel                  2.5   \n",
       "3      Apple      300           Ultrabook       Intel                  2.7   \n",
       "4      Apple      300           Ultrabook       Intel                  3.1   \n",
       "...      ...      ...                 ...         ...                  ...   \n",
       "1270  Lenovo      580  2 in 1 Convertible       Intel                  2.5   \n",
       "1271  Lenovo      588  2 in 1 Convertible       Intel                  2.5   \n",
       "1272  Lenovo      196            Notebook       Intel                  1.6   \n",
       "1273      HP        2            Notebook       Intel                  2.5   \n",
       "1274    Asus      568            Notebook       Intel                  1.6   \n",
       "\n",
       "      RAM (GB)  Memory GPU_Company  Weight (kg)  Touchscreen  Ips         ppi  \\\n",
       "0            8       4       Intel         1.37            0    1  226.983005   \n",
       "1            8       2       Intel         1.34            0    0  127.677940   \n",
       "2            8      16       Intel         1.86            0    0  141.211998   \n",
       "3           16      29         AMD         1.83            0    1  220.534624   \n",
       "4            8      16       Intel         1.37            0    1  226.983005   \n",
       "...        ...     ...         ...          ...          ...  ...         ...   \n",
       "1270         4       4       Intel         1.80            1    1  157.350512   \n",
       "1271        16      29       Intel         1.30            1    1  276.053530   \n",
       "1272         2      35       Intel         1.50            0    0  111.935204   \n",
       "1273         6      10         AMD         2.19            0    0  100.454670   \n",
       "1274         4      26       Intel         2.20            0    0  100.454670   \n",
       "\n",
       "                      os  \n",
       "0                    Mac  \n",
       "1                    Mac  \n",
       "2     Others/No OS/Linux  \n",
       "3                    Mac  \n",
       "4                    Mac  \n",
       "...                  ...  \n",
       "1270             Windows  \n",
       "1271             Windows  \n",
       "1272             Windows  \n",
       "1273             Windows  \n",
       "1274             Windows  \n",
       "\n",
       "[1274 rows x 13 columns]"
      ]
     },
     "execution_count": 31,
     "metadata": {},
     "output_type": "execute_result"
    }
   ],
   "source": [
    "X"
   ]
  },
  {
   "cell_type": "code",
   "execution_count": 32,
   "id": "20eea014",
   "metadata": {
    "execution": {
     "iopub.execute_input": "2024-12-31T07:33:34.881436Z",
     "iopub.status.busy": "2024-12-31T07:33:34.881076Z",
     "iopub.status.idle": "2024-12-31T07:33:34.976591Z",
     "shell.execute_reply": "2024-12-31T07:33:34.975373Z"
    },
    "papermill": {
     "duration": 0.109451,
     "end_time": "2024-12-31T07:33:34.978413",
     "exception": false,
     "start_time": "2024-12-31T07:33:34.868962",
     "status": "completed"
    },
    "tags": []
   },
   "outputs": [],
   "source": [
    "from sklearn.model_selection import train_test_split\n",
    "X_train,X_test,y_train,y_test = train_test_split(X,y,test_size=0.15,random_state=2)"
   ]
  },
  {
   "cell_type": "code",
   "execution_count": 33,
   "id": "b5ee5496",
   "metadata": {
    "execution": {
     "iopub.execute_input": "2024-12-31T07:33:35.003735Z",
     "iopub.status.busy": "2024-12-31T07:33:35.003240Z",
     "iopub.status.idle": "2024-12-31T07:33:35.023122Z",
     "shell.execute_reply": "2024-12-31T07:33:35.021535Z"
    },
    "papermill": {
     "duration": 0.034748,
     "end_time": "2024-12-31T07:33:35.024735",
     "exception": false,
     "start_time": "2024-12-31T07:33:34.989987",
     "status": "completed"
    },
    "tags": []
   },
   "outputs": [
    {
     "data": {
      "text/html": [
       "<div>\n",
       "<style scoped>\n",
       "    .dataframe tbody tr th:only-of-type {\n",
       "        vertical-align: middle;\n",
       "    }\n",
       "\n",
       "    .dataframe tbody tr th {\n",
       "        vertical-align: top;\n",
       "    }\n",
       "\n",
       "    .dataframe thead th {\n",
       "        text-align: right;\n",
       "    }\n",
       "</style>\n",
       "<table border=\"1\" class=\"dataframe\">\n",
       "  <thead>\n",
       "    <tr style=\"text-align: right;\">\n",
       "      <th></th>\n",
       "      <th>Company</th>\n",
       "      <th>Product</th>\n",
       "      <th>TypeName</th>\n",
       "      <th>CPU_Company</th>\n",
       "      <th>CPU_Frequency (GHz)</th>\n",
       "      <th>RAM (GB)</th>\n",
       "      <th>Memory</th>\n",
       "      <th>GPU_Company</th>\n",
       "      <th>Weight (kg)</th>\n",
       "      <th>Touchscreen</th>\n",
       "      <th>Ips</th>\n",
       "      <th>ppi</th>\n",
       "      <th>os</th>\n",
       "    </tr>\n",
       "  </thead>\n",
       "  <tbody>\n",
       "    <tr>\n",
       "      <th>21</th>\n",
       "      <td>Lenovo</td>\n",
       "      <td>291</td>\n",
       "      <td>Gaming</td>\n",
       "      <td>Intel</td>\n",
       "      <td>2.5</td>\n",
       "      <td>8</td>\n",
       "      <td>5</td>\n",
       "      <td>Nvidia</td>\n",
       "      <td>2.50</td>\n",
       "      <td>0</td>\n",
       "      <td>1</td>\n",
       "      <td>141.211998</td>\n",
       "      <td>Windows</td>\n",
       "    </tr>\n",
       "    <tr>\n",
       "      <th>790</th>\n",
       "      <td>Asus</td>\n",
       "      <td>132</td>\n",
       "      <td>Gaming</td>\n",
       "      <td>Intel</td>\n",
       "      <td>2.8</td>\n",
       "      <td>8</td>\n",
       "      <td>5</td>\n",
       "      <td>Nvidia</td>\n",
       "      <td>2.24</td>\n",
       "      <td>0</td>\n",
       "      <td>0</td>\n",
       "      <td>141.211998</td>\n",
       "      <td>Windows</td>\n",
       "    </tr>\n",
       "    <tr>\n",
       "      <th>273</th>\n",
       "      <td>Lenovo</td>\n",
       "      <td>472</td>\n",
       "      <td>2 in 1 Convertible</td>\n",
       "      <td>Intel</td>\n",
       "      <td>2.6</td>\n",
       "      <td>16</td>\n",
       "      <td>29</td>\n",
       "      <td>Intel</td>\n",
       "      <td>1.36</td>\n",
       "      <td>1</td>\n",
       "      <td>0</td>\n",
       "      <td>209.800683</td>\n",
       "      <td>Windows</td>\n",
       "    </tr>\n",
       "    <tr>\n",
       "      <th>397</th>\n",
       "      <td>Lenovo</td>\n",
       "      <td>459</td>\n",
       "      <td>Notebook</td>\n",
       "      <td>Intel</td>\n",
       "      <td>2.5</td>\n",
       "      <td>8</td>\n",
       "      <td>16</td>\n",
       "      <td>Intel</td>\n",
       "      <td>1.90</td>\n",
       "      <td>0</td>\n",
       "      <td>1</td>\n",
       "      <td>157.350512</td>\n",
       "      <td>Windows</td>\n",
       "    </tr>\n",
       "    <tr>\n",
       "      <th>921</th>\n",
       "      <td>HP</td>\n",
       "      <td>112</td>\n",
       "      <td>Ultrabook</td>\n",
       "      <td>Intel</td>\n",
       "      <td>2.5</td>\n",
       "      <td>8</td>\n",
       "      <td>16</td>\n",
       "      <td>AMD</td>\n",
       "      <td>1.84</td>\n",
       "      <td>0</td>\n",
       "      <td>0</td>\n",
       "      <td>141.211998</td>\n",
       "      <td>Windows</td>\n",
       "    </tr>\n",
       "    <tr>\n",
       "      <th>...</th>\n",
       "      <td>...</td>\n",
       "      <td>...</td>\n",
       "      <td>...</td>\n",
       "      <td>...</td>\n",
       "      <td>...</td>\n",
       "      <td>...</td>\n",
       "      <td>...</td>\n",
       "      <td>...</td>\n",
       "      <td>...</td>\n",
       "      <td>...</td>\n",
       "      <td>...</td>\n",
       "      <td>...</td>\n",
       "      <td>...</td>\n",
       "    </tr>\n",
       "    <tr>\n",
       "      <th>466</th>\n",
       "      <td>Acer</td>\n",
       "      <td>59</td>\n",
       "      <td>Notebook</td>\n",
       "      <td>Intel</td>\n",
       "      <td>2.0</td>\n",
       "      <td>4</td>\n",
       "      <td>26</td>\n",
       "      <td>Nvidia</td>\n",
       "      <td>2.20</td>\n",
       "      <td>0</td>\n",
       "      <td>0</td>\n",
       "      <td>100.454670</td>\n",
       "      <td>Windows</td>\n",
       "    </tr>\n",
       "    <tr>\n",
       "      <th>299</th>\n",
       "      <td>Asus</td>\n",
       "      <td>610</td>\n",
       "      <td>Ultrabook</td>\n",
       "      <td>Intel</td>\n",
       "      <td>2.7</td>\n",
       "      <td>16</td>\n",
       "      <td>29</td>\n",
       "      <td>Nvidia</td>\n",
       "      <td>1.63</td>\n",
       "      <td>0</td>\n",
       "      <td>0</td>\n",
       "      <td>141.211998</td>\n",
       "      <td>Windows</td>\n",
       "    </tr>\n",
       "    <tr>\n",
       "      <th>493</th>\n",
       "      <td>Acer</td>\n",
       "      <td>59</td>\n",
       "      <td>Notebook</td>\n",
       "      <td>AMD</td>\n",
       "      <td>2.5</td>\n",
       "      <td>8</td>\n",
       "      <td>10</td>\n",
       "      <td>AMD</td>\n",
       "      <td>2.20</td>\n",
       "      <td>0</td>\n",
       "      <td>0</td>\n",
       "      <td>100.454670</td>\n",
       "      <td>Windows</td>\n",
       "    </tr>\n",
       "    <tr>\n",
       "      <th>527</th>\n",
       "      <td>Lenovo</td>\n",
       "      <td>211</td>\n",
       "      <td>Notebook</td>\n",
       "      <td>Intel</td>\n",
       "      <td>2.0</td>\n",
       "      <td>8</td>\n",
       "      <td>22</td>\n",
       "      <td>Nvidia</td>\n",
       "      <td>2.20</td>\n",
       "      <td>0</td>\n",
       "      <td>0</td>\n",
       "      <td>100.454670</td>\n",
       "      <td>Others/No OS/Linux</td>\n",
       "    </tr>\n",
       "    <tr>\n",
       "      <th>1193</th>\n",
       "      <td>Apple</td>\n",
       "      <td>298</td>\n",
       "      <td>Ultrabook</td>\n",
       "      <td>Intel</td>\n",
       "      <td>1.1</td>\n",
       "      <td>8</td>\n",
       "      <td>15</td>\n",
       "      <td>Intel</td>\n",
       "      <td>0.92</td>\n",
       "      <td>0</td>\n",
       "      <td>1</td>\n",
       "      <td>226.415547</td>\n",
       "      <td>Mac</td>\n",
       "    </tr>\n",
       "  </tbody>\n",
       "</table>\n",
       "<p>1082 rows × 13 columns</p>\n",
       "</div>"
      ],
      "text/plain": [
       "     Company  Product            TypeName CPU_Company  CPU_Frequency (GHz)  \\\n",
       "21    Lenovo      291              Gaming       Intel                  2.5   \n",
       "790     Asus      132              Gaming       Intel                  2.8   \n",
       "273   Lenovo      472  2 in 1 Convertible       Intel                  2.6   \n",
       "397   Lenovo      459            Notebook       Intel                  2.5   \n",
       "921       HP      112           Ultrabook       Intel                  2.5   \n",
       "...      ...      ...                 ...         ...                  ...   \n",
       "466     Acer       59            Notebook       Intel                  2.0   \n",
       "299     Asus      610           Ultrabook       Intel                  2.7   \n",
       "493     Acer       59            Notebook         AMD                  2.5   \n",
       "527   Lenovo      211            Notebook       Intel                  2.0   \n",
       "1193   Apple      298           Ultrabook       Intel                  1.1   \n",
       "\n",
       "      RAM (GB)  Memory GPU_Company  Weight (kg)  Touchscreen  Ips         ppi  \\\n",
       "21           8       5      Nvidia         2.50            0    1  141.211998   \n",
       "790          8       5      Nvidia         2.24            0    0  141.211998   \n",
       "273         16      29       Intel         1.36            1    0  209.800683   \n",
       "397          8      16       Intel         1.90            0    1  157.350512   \n",
       "921          8      16         AMD         1.84            0    0  141.211998   \n",
       "...        ...     ...         ...          ...          ...  ...         ...   \n",
       "466          4      26      Nvidia         2.20            0    0  100.454670   \n",
       "299         16      29      Nvidia         1.63            0    0  141.211998   \n",
       "493          8      10         AMD         2.20            0    0  100.454670   \n",
       "527          8      22      Nvidia         2.20            0    0  100.454670   \n",
       "1193         8      15       Intel         0.92            0    1  226.415547   \n",
       "\n",
       "                      os  \n",
       "21               Windows  \n",
       "790              Windows  \n",
       "273              Windows  \n",
       "397              Windows  \n",
       "921              Windows  \n",
       "...                  ...  \n",
       "466              Windows  \n",
       "299              Windows  \n",
       "493              Windows  \n",
       "527   Others/No OS/Linux  \n",
       "1193                 Mac  \n",
       "\n",
       "[1082 rows x 13 columns]"
      ]
     },
     "execution_count": 33,
     "metadata": {},
     "output_type": "execute_result"
    }
   ],
   "source": [
    "X_train"
   ]
  },
  {
   "cell_type": "code",
   "execution_count": 34,
   "id": "5c29ae53",
   "metadata": {
    "execution": {
     "iopub.execute_input": "2024-12-31T07:33:35.050232Z",
     "iopub.status.busy": "2024-12-31T07:33:35.049892Z",
     "iopub.status.idle": "2024-12-31T07:33:35.073129Z",
     "shell.execute_reply": "2024-12-31T07:33:35.072209Z"
    },
    "papermill": {
     "duration": 0.037598,
     "end_time": "2024-12-31T07:33:35.074896",
     "exception": false,
     "start_time": "2024-12-31T07:33:35.037298",
     "status": "completed"
    },
    "tags": []
   },
   "outputs": [],
   "source": [
    "from sklearn.compose import ColumnTransformer\n",
    "from sklearn.pipeline import Pipeline\n",
    "from sklearn.preprocessing import OneHotEncoder\n",
    "from sklearn.metrics import r2_score,mean_absolute_error"
   ]
  },
  {
   "cell_type": "code",
   "execution_count": 35,
   "id": "3a119f2c",
   "metadata": {
    "execution": {
     "iopub.execute_input": "2024-12-31T07:33:35.100046Z",
     "iopub.status.busy": "2024-12-31T07:33:35.099704Z",
     "iopub.status.idle": "2024-12-31T07:33:35.712344Z",
     "shell.execute_reply": "2024-12-31T07:33:35.711446Z"
    },
    "papermill": {
     "duration": 0.627169,
     "end_time": "2024-12-31T07:33:35.714235",
     "exception": false,
     "start_time": "2024-12-31T07:33:35.087066",
     "status": "completed"
    },
    "tags": []
   },
   "outputs": [],
   "source": [
    "from sklearn.linear_model import LinearRegression,Ridge,Lasso\n",
    "from sklearn.neighbors import KNeighborsRegressor\n",
    "from sklearn.tree import DecisionTreeRegressor\n",
    "from sklearn.ensemble import RandomForestRegressor,GradientBoostingRegressor,AdaBoostRegressor,ExtraTreesRegressor\n",
    "from sklearn.svm import SVR\n",
    "from xgboost import XGBRegressor"
   ]
  },
  {
   "cell_type": "markdown",
   "id": "882e4392",
   "metadata": {
    "papermill": {
     "duration": 0.011068,
     "end_time": "2024-12-31T07:33:35.736965",
     "exception": false,
     "start_time": "2024-12-31T07:33:35.725897",
     "status": "completed"
    },
    "tags": []
   },
   "source": [
    "#### linear Regression \n"
   ]
  },
  {
   "cell_type": "code",
   "execution_count": 36,
   "id": "cde74426",
   "metadata": {
    "execution": {
     "iopub.execute_input": "2024-12-31T07:33:35.760835Z",
     "iopub.status.busy": "2024-12-31T07:33:35.760423Z",
     "iopub.status.idle": "2024-12-31T07:33:35.807282Z",
     "shell.execute_reply": "2024-12-31T07:33:35.805360Z"
    },
    "papermill": {
     "duration": 0.061424,
     "end_time": "2024-12-31T07:33:35.809633",
     "exception": false,
     "start_time": "2024-12-31T07:33:35.748209",
     "status": "completed"
    },
    "tags": []
   },
   "outputs": [
    {
     "name": "stdout",
     "output_type": "stream",
     "text": [
      "R2 score 0.7715541856147561\n",
      "MAE 0.22773587981440827\n"
     ]
    },
    {
     "name": "stderr",
     "output_type": "stream",
     "text": [
      "/usr/local/lib/python3.10/dist-packages/sklearn/preprocessing/_encoders.py:868: FutureWarning: `sparse` was renamed to `sparse_output` in version 1.2 and will be removed in 1.4. `sparse_output` is ignored unless you leave `sparse` to its default value.\n",
      "  warnings.warn(\n"
     ]
    }
   ],
   "source": [
    "step1 = ColumnTransformer(transformers=[\n",
    "    ('col_tnf',OneHotEncoder(sparse=False,drop='first'),[0,2,3,7,12])\n",
    "],remainder='passthrough')\n",
    "\n",
    "step2 = LinearRegression()\n",
    "\n",
    "pipe = Pipeline([\n",
    "    ('step1',step1),\n",
    "    ('step2',step2)\n",
    "])\n",
    "\n",
    "pipe.fit(X_train,y_train)\n",
    "\n",
    "y_pred = pipe.predict(X_test)\n",
    "\n",
    "print('R2 score',r2_score(y_test,y_pred))\n",
    "print('MAE',mean_absolute_error(y_test,y_pred))"
   ]
  },
  {
   "cell_type": "markdown",
   "id": "403eecc6",
   "metadata": {
    "papermill": {
     "duration": 0.020032,
     "end_time": "2024-12-31T07:33:35.850218",
     "exception": false,
     "start_time": "2024-12-31T07:33:35.830186",
     "status": "completed"
    },
    "tags": []
   },
   "source": [
    "#### Ridge regression"
   ]
  },
  {
   "cell_type": "code",
   "execution_count": 37,
   "id": "dccb53e6",
   "metadata": {
    "execution": {
     "iopub.execute_input": "2024-12-31T07:33:35.892417Z",
     "iopub.status.busy": "2024-12-31T07:33:35.891976Z",
     "iopub.status.idle": "2024-12-31T07:33:35.931258Z",
     "shell.execute_reply": "2024-12-31T07:33:35.930171Z"
    },
    "papermill": {
     "duration": 0.064779,
     "end_time": "2024-12-31T07:33:35.935395",
     "exception": false,
     "start_time": "2024-12-31T07:33:35.870616",
     "status": "completed"
    },
    "tags": []
   },
   "outputs": [
    {
     "name": "stdout",
     "output_type": "stream",
     "text": [
      "R2 score 0.7526257676451327\n",
      "MAE 0.232349957375633\n"
     ]
    },
    {
     "name": "stderr",
     "output_type": "stream",
     "text": [
      "/usr/local/lib/python3.10/dist-packages/sklearn/preprocessing/_encoders.py:868: FutureWarning: `sparse` was renamed to `sparse_output` in version 1.2 and will be removed in 1.4. `sparse_output` is ignored unless you leave `sparse` to its default value.\n",
      "  warnings.warn(\n"
     ]
    }
   ],
   "source": [
    "step1 = ColumnTransformer(transformers=[\n",
    "    ('col_tnf',OneHotEncoder(sparse=False,drop='first'),[0,2,3,7,12])\n",
    "],remainder='passthrough')\n",
    "\n",
    "step2 = Ridge(alpha=10)\n",
    "\n",
    "pipe = Pipeline([\n",
    "    ('step1',step1),\n",
    "    ('step2',step2)\n",
    "])\n",
    "\n",
    "pipe.fit(X_train,y_train)\n",
    "\n",
    "y_pred = pipe.predict(X_test)\n",
    "\n",
    "print('R2 score',r2_score(y_test,y_pred))\n",
    "print('MAE',mean_absolute_error(y_test,y_pred))"
   ]
  },
  {
   "cell_type": "markdown",
   "id": "ffa0c616",
   "metadata": {
    "papermill": {
     "duration": 0.039265,
     "end_time": "2024-12-31T07:33:36.008982",
     "exception": false,
     "start_time": "2024-12-31T07:33:35.969717",
     "status": "completed"
    },
    "tags": []
   },
   "source": [
    "### Lasso Regression"
   ]
  },
  {
   "cell_type": "code",
   "execution_count": 38,
   "id": "06b674c6",
   "metadata": {
    "execution": {
     "iopub.execute_input": "2024-12-31T07:33:36.052836Z",
     "iopub.status.busy": "2024-12-31T07:33:36.052415Z",
     "iopub.status.idle": "2024-12-31T07:33:36.076542Z",
     "shell.execute_reply": "2024-12-31T07:33:36.075046Z"
    },
    "papermill": {
     "duration": 0.038505,
     "end_time": "2024-12-31T07:33:36.078138",
     "exception": false,
     "start_time": "2024-12-31T07:33:36.039633",
     "status": "completed"
    },
    "tags": []
   },
   "outputs": [
    {
     "name": "stdout",
     "output_type": "stream",
     "text": [
      "R2 score 0.7562296255740062\n",
      "MAE 0.2296555609372589\n"
     ]
    },
    {
     "name": "stderr",
     "output_type": "stream",
     "text": [
      "/usr/local/lib/python3.10/dist-packages/sklearn/preprocessing/_encoders.py:868: FutureWarning: `sparse` was renamed to `sparse_output` in version 1.2 and will be removed in 1.4. `sparse_output` is ignored unless you leave `sparse` to its default value.\n",
      "  warnings.warn(\n"
     ]
    }
   ],
   "source": [
    "step1 = ColumnTransformer(transformers=[\n",
    "    ('col_tnf',OneHotEncoder(sparse=False,drop='first'),[0,2,3,7,12])\n",
    "],remainder='passthrough')\n",
    "\n",
    "step2 = Lasso(alpha=0.001)\n",
    "\n",
    "pipe = Pipeline([\n",
    "    ('step1',step1),\n",
    "    ('step2',step2)\n",
    "])\n",
    "\n",
    "pipe.fit(X_train,y_train)\n",
    "\n",
    "y_pred = pipe.predict(X_test)\n",
    "\n",
    "print('R2 score',r2_score(y_test,y_pred))\n",
    "print('MAE',mean_absolute_error(y_test,y_pred))"
   ]
  },
  {
   "cell_type": "markdown",
   "id": "c81cb2e5",
   "metadata": {
    "papermill": {
     "duration": 0.011647,
     "end_time": "2024-12-31T07:33:36.101689",
     "exception": false,
     "start_time": "2024-12-31T07:33:36.090042",
     "status": "completed"
    },
    "tags": []
   },
   "source": [
    "### Decision Tree"
   ]
  },
  {
   "cell_type": "code",
   "execution_count": 39,
   "id": "83b5b9d3",
   "metadata": {
    "execution": {
     "iopub.execute_input": "2024-12-31T07:33:36.126540Z",
     "iopub.status.busy": "2024-12-31T07:33:36.126154Z",
     "iopub.status.idle": "2024-12-31T07:33:36.151875Z",
     "shell.execute_reply": "2024-12-31T07:33:36.150558Z"
    },
    "papermill": {
     "duration": 0.040117,
     "end_time": "2024-12-31T07:33:36.153691",
     "exception": false,
     "start_time": "2024-12-31T07:33:36.113574",
     "status": "completed"
    },
    "tags": []
   },
   "outputs": [
    {
     "name": "stdout",
     "output_type": "stream",
     "text": [
      "R2 score 0.7806813495372386\n",
      "MAE 0.21442768409523413\n"
     ]
    },
    {
     "name": "stderr",
     "output_type": "stream",
     "text": [
      "/usr/local/lib/python3.10/dist-packages/sklearn/preprocessing/_encoders.py:868: FutureWarning: `sparse` was renamed to `sparse_output` in version 1.2 and will be removed in 1.4. `sparse_output` is ignored unless you leave `sparse` to its default value.\n",
      "  warnings.warn(\n"
     ]
    }
   ],
   "source": [
    "step1 = ColumnTransformer(transformers=[\n",
    "    ('col_tnf',OneHotEncoder(sparse=False,drop='first'),[0,2,3,7,12])\n",
    "],remainder='passthrough')\n",
    "\n",
    "step2 = DecisionTreeRegressor(max_depth=8)\n",
    "\n",
    "pipe = Pipeline([\n",
    "    ('step1',step1),\n",
    "    ('step2',step2)\n",
    "])\n",
    "\n",
    "pipe.fit(X_train,y_train)\n",
    "\n",
    "y_pred = pipe.predict(X_test)\n",
    "\n",
    "print('R2 score',r2_score(y_test,y_pred))\n",
    "print('MAE',mean_absolute_error(y_test,y_pred))"
   ]
  },
  {
   "cell_type": "markdown",
   "id": "4b79ddc4",
   "metadata": {
    "papermill": {
     "duration": 0.011545,
     "end_time": "2024-12-31T07:33:36.177216",
     "exception": false,
     "start_time": "2024-12-31T07:33:36.165671",
     "status": "completed"
    },
    "tags": []
   },
   "source": [
    "#### Random forest"
   ]
  },
  {
   "cell_type": "code",
   "execution_count": 40,
   "id": "74375c2b",
   "metadata": {
    "execution": {
     "iopub.execute_input": "2024-12-31T07:33:36.202162Z",
     "iopub.status.busy": "2024-12-31T07:33:36.201782Z",
     "iopub.status.idle": "2024-12-31T07:33:36.555148Z",
     "shell.execute_reply": "2024-12-31T07:33:36.554064Z"
    },
    "papermill": {
     "duration": 0.367804,
     "end_time": "2024-12-31T07:33:36.556828",
     "exception": false,
     "start_time": "2024-12-31T07:33:36.189024",
     "status": "completed"
    },
    "tags": []
   },
   "outputs": [
    {
     "name": "stderr",
     "output_type": "stream",
     "text": [
      "/usr/local/lib/python3.10/dist-packages/sklearn/preprocessing/_encoders.py:868: FutureWarning: `sparse` was renamed to `sparse_output` in version 1.2 and will be removed in 1.4. `sparse_output` is ignored unless you leave `sparse` to its default value.\n",
      "  warnings.warn(\n"
     ]
    },
    {
     "name": "stdout",
     "output_type": "stream",
     "text": [
      "R2 score 0.8894802232131542\n",
      "MAE 0.15667239533341862\n"
     ]
    }
   ],
   "source": [
    "step1 = ColumnTransformer(transformers=[\n",
    "    ('col_tnf',OneHotEncoder(sparse=False,drop='first'),[0,2,3,7,12])\n",
    "],remainder='passthrough')\n",
    "\n",
    "step2 = RandomForestRegressor(n_estimators=100,\n",
    "                              random_state=3,\n",
    "                              max_samples=0.5,\n",
    "                              max_features=0.75,\n",
    "                              max_depth=15)\n",
    "\n",
    "pipe = Pipeline([\n",
    "    ('step1',step1),\n",
    "    ('step2',step2)\n",
    "])\n",
    "\n",
    "pipe.fit(X_train,y_train)\n",
    "\n",
    "y_pred = pipe.predict(X_test)\n",
    "\n",
    "print('R2 score',r2_score(y_test,y_pred))\n",
    "print('MAE',mean_absolute_error(y_test,y_pred))"
   ]
  },
  {
   "cell_type": "markdown",
   "id": "d4bb59d7",
   "metadata": {
    "papermill": {
     "duration": 0.0117,
     "end_time": "2024-12-31T07:33:36.580829",
     "exception": false,
     "start_time": "2024-12-31T07:33:36.569129",
     "status": "completed"
    },
    "tags": []
   },
   "source": [
    "### XGBoost"
   ]
  },
  {
   "cell_type": "code",
   "execution_count": 41,
   "id": "ebfe907d",
   "metadata": {
    "execution": {
     "iopub.execute_input": "2024-12-31T07:33:36.606481Z",
     "iopub.status.busy": "2024-12-31T07:33:36.606102Z",
     "iopub.status.idle": "2024-12-31T07:33:36.702355Z",
     "shell.execute_reply": "2024-12-31T07:33:36.699073Z"
    },
    "papermill": {
     "duration": 0.111468,
     "end_time": "2024-12-31T07:33:36.704256",
     "exception": false,
     "start_time": "2024-12-31T07:33:36.592788",
     "status": "completed"
    },
    "tags": []
   },
   "outputs": [
    {
     "name": "stdout",
     "output_type": "stream",
     "text": [
      "R2 score 0.885241018529664\n",
      "MAE 0.14882004913112798\n"
     ]
    },
    {
     "name": "stderr",
     "output_type": "stream",
     "text": [
      "/usr/local/lib/python3.10/dist-packages/sklearn/preprocessing/_encoders.py:868: FutureWarning: `sparse` was renamed to `sparse_output` in version 1.2 and will be removed in 1.4. `sparse_output` is ignored unless you leave `sparse` to its default value.\n",
      "  warnings.warn(\n"
     ]
    }
   ],
   "source": [
    "step1 = ColumnTransformer(transformers=[\n",
    "    ('col_tnf',OneHotEncoder(sparse=False,drop='first'),[0,2,3,7,12])\n",
    "],remainder='passthrough')\n",
    "\n",
    "step2 = XGBRegressor(n_estimators=45,max_depth=5,learning_rate=0.5)\n",
    "\n",
    "pipe = Pipeline([\n",
    "    ('step1',step1),\n",
    "    ('step2',step2)\n",
    "])\n",
    "\n",
    "pipe.fit(X_train,y_train)\n",
    "\n",
    "y_pred = pipe.predict(X_test)\n",
    "\n",
    "print('R2 score',r2_score(y_test,y_pred))\n",
    "print('MAE',mean_absolute_error(y_test,y_pred))"
   ]
  },
  {
   "cell_type": "markdown",
   "id": "24da1a43",
   "metadata": {
    "papermill": {
     "duration": 0.011443,
     "end_time": "2024-12-31T07:33:36.730184",
     "exception": false,
     "start_time": "2024-12-31T07:33:36.718741",
     "status": "completed"
    },
    "tags": []
   },
   "source": [
    "### vooting ensemble"
   ]
  },
  {
   "cell_type": "code",
   "execution_count": 42,
   "id": "b1c57382",
   "metadata": {
    "execution": {
     "iopub.execute_input": "2024-12-31T07:33:36.755606Z",
     "iopub.status.busy": "2024-12-31T07:33:36.755234Z",
     "iopub.status.idle": "2024-12-31T07:33:39.467924Z",
     "shell.execute_reply": "2024-12-31T07:33:39.465865Z"
    },
    "papermill": {
     "duration": 2.7276,
     "end_time": "2024-12-31T07:33:39.469792",
     "exception": false,
     "start_time": "2024-12-31T07:33:36.742192",
     "status": "completed"
    },
    "tags": []
   },
   "outputs": [
    {
     "name": "stderr",
     "output_type": "stream",
     "text": [
      "/usr/local/lib/python3.10/dist-packages/sklearn/preprocessing/_encoders.py:868: FutureWarning: `sparse` was renamed to `sparse_output` in version 1.2 and will be removed in 1.4. `sparse_output` is ignored unless you leave `sparse` to its default value.\n",
      "  warnings.warn(\n"
     ]
    },
    {
     "name": "stdout",
     "output_type": "stream",
     "text": [
      "R2 score 0.8974474736419331\n",
      "MAE 0.14981816642880016\n"
     ]
    }
   ],
   "source": [
    "from sklearn.ensemble import VotingRegressor,StackingRegressor\n",
    "\n",
    "step1 = ColumnTransformer(transformers=[\n",
    "    ('col_tnf',OneHotEncoder(sparse=False,drop='first'),[0,2,3,7,12])\n",
    "],remainder='passthrough')\n",
    "\n",
    "\n",
    "rf = RandomForestRegressor(n_estimators=350,random_state=3)\n",
    "gbdt = GradientBoostingRegressor(n_estimators=100,max_features=0.5)\n",
    "xgb = XGBRegressor(n_estimators=25,learning_rate=0.3,max_depth=5)\n",
    "et = ExtraTreesRegressor(n_estimators=100,random_state=3)\n",
    "\n",
    "step2 = VotingRegressor([('rf', rf), ('gbdt', gbdt), ('xgb',xgb), ('et',et)],weights=[5,1,1,1])\n",
    "\n",
    "pipe = Pipeline([\n",
    "    ('step1',step1),\n",
    "    ('step2',step2)\n",
    "])\n",
    "\n",
    "pipe.fit(X_train,y_train)\n",
    "\n",
    "y_pred = pipe.predict(X_test)\n",
    "\n",
    "print('R2 score',r2_score(y_test,y_pred))\n",
    "print('MAE',mean_absolute_error(y_test,y_pred))"
   ]
  },
  {
   "cell_type": "markdown",
   "id": "1f0bf095",
   "metadata": {
    "papermill": {
     "duration": 0.011753,
     "end_time": "2024-12-31T07:33:39.493939",
     "exception": false,
     "start_time": "2024-12-31T07:33:39.482186",
     "status": "completed"
    },
    "tags": []
   },
   "source": [
    "### gradient Boosting "
   ]
  },
  {
   "cell_type": "code",
   "execution_count": 43,
   "id": "00f9b638",
   "metadata": {
    "execution": {
     "iopub.execute_input": "2024-12-31T07:33:39.519521Z",
     "iopub.status.busy": "2024-12-31T07:33:39.519134Z",
     "iopub.status.idle": "2024-12-31T07:33:40.467280Z",
     "shell.execute_reply": "2024-12-31T07:33:40.466242Z"
    },
    "papermill": {
     "duration": 0.963035,
     "end_time": "2024-12-31T07:33:40.468904",
     "exception": false,
     "start_time": "2024-12-31T07:33:39.505869",
     "status": "completed"
    },
    "tags": []
   },
   "outputs": [
    {
     "name": "stderr",
     "output_type": "stream",
     "text": [
      "/usr/local/lib/python3.10/dist-packages/sklearn/preprocessing/_encoders.py:868: FutureWarning: `sparse` was renamed to `sparse_output` in version 1.2 and will be removed in 1.4. `sparse_output` is ignored unless you leave `sparse` to its default value.\n",
      "  warnings.warn(\n"
     ]
    },
    {
     "name": "stdout",
     "output_type": "stream",
     "text": [
      "R2 score 0.8875339168405452\n",
      "MAE 0.14953757468551934\n"
     ]
    }
   ],
   "source": [
    "step1 = ColumnTransformer(transformers=[\n",
    "    ('col_tnf',OneHotEncoder(sparse=False,drop='first'),[0,2,3,7,12])\n",
    "],remainder='passthrough')\n",
    "\n",
    "step2 = GradientBoostingRegressor(n_estimators=500)\n",
    "\n",
    "pipe = Pipeline([\n",
    "    ('step1',step1),\n",
    "    ('step2',step2)\n",
    "])\n",
    "\n",
    "pipe.fit(X_train,y_train)\n",
    "\n",
    "y_pred = pipe.predict(X_test)\n",
    "\n",
    "print('R2 score',r2_score(y_test,y_pred))\n",
    "print('MAE',mean_absolute_error(y_test,y_pred))"
   ]
  },
  {
   "cell_type": "code",
   "execution_count": 44,
   "id": "05b9df6a",
   "metadata": {
    "execution": {
     "iopub.execute_input": "2024-12-31T07:33:40.496048Z",
     "iopub.status.busy": "2024-12-31T07:33:40.495676Z",
     "iopub.status.idle": "2024-12-31T07:33:40.511869Z",
     "shell.execute_reply": "2024-12-31T07:33:40.510915Z"
    },
    "papermill": {
     "duration": 0.032394,
     "end_time": "2024-12-31T07:33:40.513962",
     "exception": false,
     "start_time": "2024-12-31T07:33:40.481568",
     "status": "completed"
    },
    "tags": []
   },
   "outputs": [
    {
     "data": {
      "text/html": [
       "<div>\n",
       "<style scoped>\n",
       "    .dataframe tbody tr th:only-of-type {\n",
       "        vertical-align: middle;\n",
       "    }\n",
       "\n",
       "    .dataframe tbody tr th {\n",
       "        vertical-align: top;\n",
       "    }\n",
       "\n",
       "    .dataframe thead th {\n",
       "        text-align: right;\n",
       "    }\n",
       "</style>\n",
       "<table border=\"1\" class=\"dataframe\">\n",
       "  <thead>\n",
       "    <tr style=\"text-align: right;\">\n",
       "      <th></th>\n",
       "      <th>Company</th>\n",
       "      <th>Product</th>\n",
       "      <th>TypeName</th>\n",
       "      <th>CPU_Company</th>\n",
       "      <th>CPU_Frequency (GHz)</th>\n",
       "      <th>RAM (GB)</th>\n",
       "      <th>Memory</th>\n",
       "      <th>GPU_Company</th>\n",
       "      <th>Weight (kg)</th>\n",
       "      <th>Price (Euro)</th>\n",
       "      <th>Touchscreen</th>\n",
       "      <th>Ips</th>\n",
       "      <th>ppi</th>\n",
       "      <th>os</th>\n",
       "    </tr>\n",
       "  </thead>\n",
       "  <tbody>\n",
       "    <tr>\n",
       "      <th>0</th>\n",
       "      <td>Apple</td>\n",
       "      <td>300</td>\n",
       "      <td>Ultrabook</td>\n",
       "      <td>Intel</td>\n",
       "      <td>2.3</td>\n",
       "      <td>8</td>\n",
       "      <td>4</td>\n",
       "      <td>Intel</td>\n",
       "      <td>1.37</td>\n",
       "      <td>1339.69</td>\n",
       "      <td>0</td>\n",
       "      <td>1</td>\n",
       "      <td>226.983005</td>\n",
       "      <td>Mac</td>\n",
       "    </tr>\n",
       "    <tr>\n",
       "      <th>1</th>\n",
       "      <td>Apple</td>\n",
       "      <td>301</td>\n",
       "      <td>Ultrabook</td>\n",
       "      <td>Intel</td>\n",
       "      <td>1.8</td>\n",
       "      <td>8</td>\n",
       "      <td>2</td>\n",
       "      <td>Intel</td>\n",
       "      <td>1.34</td>\n",
       "      <td>898.94</td>\n",
       "      <td>0</td>\n",
       "      <td>0</td>\n",
       "      <td>127.677940</td>\n",
       "      <td>Mac</td>\n",
       "    </tr>\n",
       "    <tr>\n",
       "      <th>2</th>\n",
       "      <td>HP</td>\n",
       "      <td>50</td>\n",
       "      <td>Notebook</td>\n",
       "      <td>Intel</td>\n",
       "      <td>2.5</td>\n",
       "      <td>8</td>\n",
       "      <td>16</td>\n",
       "      <td>Intel</td>\n",
       "      <td>1.86</td>\n",
       "      <td>575.00</td>\n",
       "      <td>0</td>\n",
       "      <td>0</td>\n",
       "      <td>141.211998</td>\n",
       "      <td>Others/No OS/Linux</td>\n",
       "    </tr>\n",
       "    <tr>\n",
       "      <th>3</th>\n",
       "      <td>Apple</td>\n",
       "      <td>300</td>\n",
       "      <td>Ultrabook</td>\n",
       "      <td>Intel</td>\n",
       "      <td>2.7</td>\n",
       "      <td>16</td>\n",
       "      <td>29</td>\n",
       "      <td>AMD</td>\n",
       "      <td>1.83</td>\n",
       "      <td>2537.45</td>\n",
       "      <td>0</td>\n",
       "      <td>1</td>\n",
       "      <td>220.534624</td>\n",
       "      <td>Mac</td>\n",
       "    </tr>\n",
       "    <tr>\n",
       "      <th>4</th>\n",
       "      <td>Apple</td>\n",
       "      <td>300</td>\n",
       "      <td>Ultrabook</td>\n",
       "      <td>Intel</td>\n",
       "      <td>3.1</td>\n",
       "      <td>8</td>\n",
       "      <td>16</td>\n",
       "      <td>Intel</td>\n",
       "      <td>1.37</td>\n",
       "      <td>1803.60</td>\n",
       "      <td>0</td>\n",
       "      <td>1</td>\n",
       "      <td>226.983005</td>\n",
       "      <td>Mac</td>\n",
       "    </tr>\n",
       "  </tbody>\n",
       "</table>\n",
       "</div>"
      ],
      "text/plain": [
       "  Company  Product   TypeName CPU_Company  CPU_Frequency (GHz)  RAM (GB)  \\\n",
       "0   Apple      300  Ultrabook       Intel                  2.3         8   \n",
       "1   Apple      301  Ultrabook       Intel                  1.8         8   \n",
       "2      HP       50   Notebook       Intel                  2.5         8   \n",
       "3   Apple      300  Ultrabook       Intel                  2.7        16   \n",
       "4   Apple      300  Ultrabook       Intel                  3.1         8   \n",
       "\n",
       "   Memory GPU_Company  Weight (kg)  Price (Euro)  Touchscreen  Ips  \\\n",
       "0       4       Intel         1.37       1339.69            0    1   \n",
       "1       2       Intel         1.34        898.94            0    0   \n",
       "2      16       Intel         1.86        575.00            0    0   \n",
       "3      29         AMD         1.83       2537.45            0    1   \n",
       "4      16       Intel         1.37       1803.60            0    1   \n",
       "\n",
       "          ppi                  os  \n",
       "0  226.983005                 Mac  \n",
       "1  127.677940                 Mac  \n",
       "2  141.211998  Others/No OS/Linux  \n",
       "3  220.534624                 Mac  \n",
       "4  226.983005                 Mac  "
      ]
     },
     "execution_count": 44,
     "metadata": {},
     "output_type": "execute_result"
    }
   ],
   "source": [
    "df.head()"
   ]
  },
  {
   "cell_type": "code",
   "execution_count": null,
   "id": "12b14a87",
   "metadata": {
    "papermill": {
     "duration": 0.0123,
     "end_time": "2024-12-31T07:33:40.539076",
     "exception": false,
     "start_time": "2024-12-31T07:33:40.526776",
     "status": "completed"
    },
    "tags": []
   },
   "outputs": [],
   "source": []
  }
 ],
 "metadata": {
  "kaggle": {
   "accelerator": "none",
   "dataSources": [
    {
     "datasetId": 6070930,
     "sourceId": 9886066,
     "sourceType": "datasetVersion"
    }
   ],
   "dockerImageVersionId": 30822,
   "isGpuEnabled": false,
   "isInternetEnabled": true,
   "language": "python",
   "sourceType": "notebook"
  },
  "kernelspec": {
   "display_name": "Python 3",
   "language": "python",
   "name": "python3"
  },
  "language_info": {
   "codemirror_mode": {
    "name": "ipython",
    "version": 3
   },
   "file_extension": ".py",
   "mimetype": "text/x-python",
   "name": "python",
   "nbconvert_exporter": "python",
   "pygments_lexer": "ipython3",
   "version": "3.10.12"
  },
  "papermill": {
   "default_parameters": {},
   "duration": 12.489288,
   "end_time": "2024-12-31T07:33:41.272165",
   "environment_variables": {},
   "exception": null,
   "input_path": "__notebook__.ipynb",
   "output_path": "__notebook__.ipynb",
   "parameters": {},
   "start_time": "2024-12-31T07:33:28.782877",
   "version": "2.6.0"
  }
 },
 "nbformat": 4,
 "nbformat_minor": 5
}
